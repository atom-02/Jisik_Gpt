{
 "cells": [
  {
   "cell_type": "code",
   "execution_count": 5,
   "id": "306fbdea",
   "metadata": {},
   "outputs": [
    {
     "data": {
      "text/plain": [
       "AIMessage(content='저는 AI 언어 모델로, 특정한 이름은 없어요. 여러분이 저를 어떻게 부르든지 상관없습니다! 도움이 필요하신 점이 있다면 말씀해 주세요.', additional_kwargs={'refusal': None}, response_metadata={'token_usage': {'completion_tokens': 41, 'prompt_tokens': 14, 'total_tokens': 55, 'completion_tokens_details': {'accepted_prediction_tokens': 0, 'audio_tokens': 0, 'reasoning_tokens': 0, 'rejected_prediction_tokens': 0}, 'prompt_tokens_details': {'audio_tokens': 0, 'cached_tokens': 0}}, 'model_name': 'gpt-4o-mini-2024-07-18', 'system_fingerprint': 'fp_0392822090', 'id': 'chatcmpl-BXQ7t125lq9icZj0EkKKjqnenbGqO', 'service_tier': 'default', 'finish_reason': 'stop', 'logprobs': None}, id='run--99b1783f-bd4d-4cce-a03c-cc8c0682ea86-0', usage_metadata={'input_tokens': 14, 'output_tokens': 41, 'total_tokens': 55, 'input_token_details': {'audio': 0, 'cache_read': 0}, 'output_token_details': {'audio': 0, 'reasoning': 0}})"
      ]
     },
     "execution_count": 5,
     "metadata": {},
     "output_type": "execute_result"
    }
   ],
   "source": [
    "from langchain_openai import ChatOpenAI\n",
    "\n",
    "llm = ChatOpenAI(model=\"gpt-4o-mini\")\n",
    "\n",
    "llm.invoke(\"너의 이름은 뭐니?\")"
   ]
  },
  {
   "cell_type": "code",
   "execution_count": 12,
   "id": "444ab691",
   "metadata": {},
   "outputs": [
    {
     "data": {
      "text/plain": [
       "AIMessage(content='물론이죠! 당신과 친해지고 싶어요. 어떤 이야기를 나누고 싶으신가요? 취미나 관심사에 대해 이야기해볼까요?', additional_kwargs={'refusal': None}, response_metadata={'token_usage': {'completion_tokens': 38, 'prompt_tokens': 13, 'total_tokens': 51, 'completion_tokens_details': {'accepted_prediction_tokens': 0, 'audio_tokens': 0, 'reasoning_tokens': 0, 'rejected_prediction_tokens': 0}, 'prompt_tokens_details': {'audio_tokens': 0, 'cached_tokens': 0}}, 'model_name': 'gpt-4o-mini-2024-07-18', 'system_fingerprint': 'fp_0392822090', 'id': 'chatcmpl-BXQDVzQJ0EccYfF6lvdTOeF47dcn5', 'service_tier': 'default', 'finish_reason': 'stop', 'logprobs': None}, id='run--f9d1e3ca-b567-4248-a5e3-3584425b693d-0', usage_metadata={'input_tokens': 13, 'output_tokens': 38, 'total_tokens': 51, 'input_token_details': {'audio': 0, 'cache_read': 0}, 'output_token_details': {'audio': 0, 'reasoning': 0}})"
      ]
     },
     "execution_count": 12,
     "metadata": {},
     "output_type": "execute_result"
    }
   ],
   "source": [
    "from langchain_openai import ChatOpenAI\n",
    "\n",
    "llm = ChatOpenAI(\n",
    "    model=\"gpt-4o-mini\",\n",
    "    temperature=0.7               # 0.7이 가장 적당함. 0이면 변화가 없음\n",
    "    )\n",
    "\n",
    "llm.invoke(\"나랑 친해질래\")"
   ]
  },
  {
   "cell_type": "code",
   "execution_count": 13,
   "id": "615fed13",
   "metadata": {},
   "outputs": [
    {
     "data": {
      "text/plain": [
       "AIMessage(content='이 글은 간단하고 일상적인 내용을 담고 있습니다. 하지만 문장 구조가 단조롭고, 감정이나 생각을 좀 더 표현하면 더 좋을 것 같습니다. 예를 들어, 학교에서 친구들과 놀았을 때 어떤 기분이었는지, 저녁에 어떤 음식을 먹었는지 구체적으로 서술하면 더 풍부한 글이 될 것입니다. \\n\\n점수: 3점.', additional_kwargs={'refusal': None}, response_metadata={'token_usage': {'completion_tokens': 92, 'prompt_tokens': 108, 'total_tokens': 200, 'completion_tokens_details': {'accepted_prediction_tokens': 0, 'audio_tokens': 0, 'reasoning_tokens': 0, 'rejected_prediction_tokens': 0}, 'prompt_tokens_details': {'audio_tokens': 0, 'cached_tokens': 0}}, 'model_name': 'gpt-4o-mini-2024-07-18', 'system_fingerprint': 'fp_0392822090', 'id': 'chatcmpl-BXQE7lIJbRqABkznQT9tLiTEkf4i6', 'service_tier': 'default', 'finish_reason': 'stop', 'logprobs': None}, id='run--f5568b33-286f-4a59-bcb3-ef2c38043fde-0', usage_metadata={'input_tokens': 108, 'output_tokens': 92, 'total_tokens': 200, 'input_token_details': {'audio': 0, 'cache_read': 0}, 'output_token_details': {'audio': 0, 'reasoning': 0}})"
      ]
     },
     "execution_count": 13,
     "metadata": {},
     "output_type": "execute_result"
    }
   ],
   "source": [
    "prompt = [\n",
    "        (\"system\",\n",
    "            \"\"\"    \n",
    "            당신은 글쓰기 채점 및 피드백 도우미입니다. \n",
    "            학생이 현재까지 쓴 글을 읽고, 최저 1점에서 최대 5점의 점수를 제공해주세요.\n",
    "            \"\"\"\n",
    "        ),\n",
    "        (\"human\", \n",
    "            \"\"\"\n",
    "            오늘 아침에 눈을 떳다. 학교에 갔다가 친구들이랑 놀았다가 집에 왔다. 엄마가 맛있는 저녁을 해줬다. TV를 보다가 잠들었다.\n",
    "            \"\"\"\n",
    "         )\n",
    "    ]\n",
    "\n",
    "llm.invoke(prompt)"
   ]
  },
  {
   "cell_type": "code",
   "execution_count": 19,
   "id": "6f528d0b",
   "metadata": {},
   "outputs": [
    {
     "data": {
      "text/plain": [
       "AIMessage(content='이 글은 일상적인 하루를 간단하게 서술하고 있습니다. 문장은 짧고 명확하지만, 내용이 다소 단조롭고 감정이나 세부 묘사가 부족합니다. 독자가 글쓴이의 경험을 더 잘 이해하고 공감할 수 있도록 조금 더 구체적인 묘사를 추가하면 좋을 것 같습니다. 예를 들어, 친구들과 어떤 놀이를 했는지, 저녁의 어떤 음식이 맛있었는지에 대한 설명이 있으면 더 풍부한 글이 될 것입니다.\\n\\n점수: 2점', additional_kwargs={'refusal': None}, response_metadata={'token_usage': {'completion_tokens': 123, 'prompt_tokens': 110, 'total_tokens': 233, 'completion_tokens_details': {'accepted_prediction_tokens': 0, 'audio_tokens': 0, 'reasoning_tokens': 0, 'rejected_prediction_tokens': 0}, 'prompt_tokens_details': {'audio_tokens': 0, 'cached_tokens': 0}}, 'model_name': 'gpt-4o-mini-2024-07-18', 'system_fingerprint': 'fp_0392822090', 'id': 'chatcmpl-BXQOe1xh5r2TeEigBBnxy2sZg2oqK', 'service_tier': 'default', 'finish_reason': 'stop', 'logprobs': None}, id='run--d1827769-29fa-4e8b-897f-3195c18918ae-0', usage_metadata={'input_tokens': 110, 'output_tokens': 123, 'total_tokens': 233, 'input_token_details': {'audio': 0, 'cache_read': 0}, 'output_token_details': {'audio': 0, 'reasoning': 0}})"
      ]
     },
     "execution_count": 19,
     "metadata": {},
     "output_type": "execute_result"
    }
   ],
   "source": [
    "from langchain_core.prompts import ChatPromptTemplate\n",
    "\n",
    "prompt = ChatPromptTemplate.from_messages(\n",
    "    [\n",
    "        (\"system\",\n",
    "            \"\"\"    \n",
    "            당신은 글쓰기 채점 및 피드백 도우미입니다. \n",
    "            학생이 현재까지 쓴 글을 읽고, 최저 {min_score}점에서 최대 {max_score}점의 점수를 제공해주세요.\n",
    "            \"\"\"\n",
    "        ),\n",
    "        (\"human\", \n",
    "            \"\"\"\n",
    "            {input}\n",
    "            \"\"\"\n",
    "         )\n",
    "    ]\n",
    ")\n",
    "\n",
    "### The pipe operator |\n",
    "\n",
    "chain = prompt | llm\n",
    "chain.invoke(\n",
    "    {\n",
    "        \"min_score\" : \"1점\",\n",
    "        \"max_score\" : \"5점\",\n",
    "        \"input\" : \"오늘 아침에 눈을 떳다. 학교에 갔다가 친구들이랑 놀았다가 집에 왔다. 엄마가 맛있는 저녁을 해줬다. TV를 보다가 잠들었다.\"\n",
    "    }\n",
    ")"
   ]
  },
  {
   "cell_type": "code",
   "execution_count": 20,
   "id": "3f93ddbb",
   "metadata": {},
   "outputs": [
    {
     "data": {
      "text/plain": [
       "'이 글은 일상적인 하루를 간단하게 요약한 내용입니다. 문장이 짧고 간결하여 이해하기 쉽지만, 좀 더 구체적인 내용이나 감정을 담으면 더 좋을 것 같습니다. 예를 들어 친구들과 놀았던 구체적인 활동이나 엄마가 해준 저녁의 종류 등을 추가하면 글이 풍부해질 것입니다.\\n\\n점수: 3점.'"
      ]
     },
     "execution_count": 20,
     "metadata": {},
     "output_type": "execute_result"
    }
   ],
   "source": [
    "from langchain_core.prompts import ChatPromptTemplate\n",
    "from langchain_core.output_parsers import StrOutputParser\n",
    "\n",
    "prompt = ChatPromptTemplate.from_messages(\n",
    "    [\n",
    "        (\"system\",\n",
    "            \"\"\"    \n",
    "            당신은 글쓰기 채점 및 피드백 도우미입니다. \n",
    "            학생이 현재까지 쓴 글을 읽고, 최저 {min_score}점에서 최대 {max_score}점의 점수를 제공해주세요.\n",
    "            \"\"\"\n",
    "        ),\n",
    "        (\"human\", \n",
    "            \"\"\"\n",
    "            {input}\n",
    "            \"\"\"\n",
    "         )\n",
    "    ]\n",
    ")\n",
    "\n",
    "### The pipe operator |\n",
    "\n",
    "chain = prompt | llm | StrOutputParser()\n",
    "chain.invoke(\n",
    "    {\n",
    "        \"min_score\" : \"1점\",\n",
    "        \"max_score\" : \"5점\",\n",
    "        \"input\" : \"오늘 아침에 눈을 떳다. 학교에 갔다가 친구들이랑 놀았다가 집에 왔다. 엄마가 맛있는 저녁을 해줬다. TV를 보다가 잠들었다.\"\n",
    "    }\n",
    ")"
   ]
  }
 ],
 "metadata": {
  "kernelspec": {
   "display_name": "jisik_env",
   "language": "python",
   "name": "python3"
  },
  "language_info": {
   "codemirror_mode": {
    "name": "ipython",
    "version": 3
   },
   "file_extension": ".py",
   "mimetype": "text/x-python",
   "name": "python",
   "nbconvert_exporter": "python",
   "pygments_lexer": "ipython3",
   "version": "3.12.3"
  }
 },
 "nbformat": 4,
 "nbformat_minor": 5
}
